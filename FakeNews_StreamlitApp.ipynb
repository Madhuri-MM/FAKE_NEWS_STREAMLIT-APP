{
  "nbformat": 4,
  "nbformat_minor": 0,
  "metadata": {
    "colab": {
      "provenance": [],
      "collapsed_sections": [],
      "authorship_tag": "ABX9TyNfk0FVZ3Sdyma/gxaFZ5oN"
    },
    "kernelspec": {
      "name": "python3",
      "display_name": "Python 3"
    },
    "language_info": {
      "name": "python"
    }
  },
  "cells": [
    {
      "cell_type": "code",
      "execution_count": 2,
      "metadata": {
        "colab": {
          "base_uri": "https://localhost:8080/"
        },
        "id": "W3IlulYIjb8z",
        "outputId": "91927928-9106-41fe-c245-74b06b6ffa5b"
      },
      "outputs": [
        {
          "output_type": "stream",
          "name": "stdout",
          "text": [
            "Overwriting app.py\n"
          ]
        }
      ],
      "source": [
        "%%writefile app.py\n",
        "import pandas as pd\n",
        "import numpy as np \n",
        "from sklearn.feature_extraction.text import CountVectorizer\n",
        "from sklearn.model_selection import train_test_split\n",
        "from sklearn.naive_bayes import MultinomialNB\n",
        "data = pd.read_csv(\"/content/news.csv\")\n",
        "x = np.array(data[\"title\"])\n",
        "y = np.array(data[\"label\"])\n",
        "cv = CountVectorizer()\n",
        "x = cv.fit_transform(x)\n",
        "xtrain, xtest, ytrain, ytest = train_test_split(x, y, test_size=0.2, random_state=42)\n",
        "model = MultinomialNB()\n",
        "model.fit(xtrain, ytrain)\n",
        "import streamlit as st\n",
        "st.title(\"Fake News Detection System\")\n",
        "def fakenewsdetection():\n",
        "    user = st.text_area(\"Enter Any News Headline: \")\n",
        "    if len(user) < 1:\n",
        "        st.button(\"Predict\")    \n",
        "    else:\n",
        "        sample = user\n",
        "        data = cv.transform([sample]).toarray()\n",
        "        a = model.predict(data)\n",
        "        st.title(a)\n",
        "        st.button(\"Predict\")        \n",
        "fakenewsdetection()"
      ]
    },
    {
      "cell_type": "code",
      "source": [],
      "metadata": {
        "id": "tSY9DnehjrA4"
      },
      "execution_count": null,
      "outputs": []
    }
  ]
}